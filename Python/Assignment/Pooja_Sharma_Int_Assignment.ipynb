{
  "nbformat": 4,
  "nbformat_minor": 0,
  "metadata": {
    "colab": {
      "name": " Pooja_Sharma_Int_Assignment.ipynb",
      "provenance": [],
      "collapsed_sections": []
    },
    "kernelspec": {
      "name": "python3",
      "display_name": "Python 3"
    }
  },
  "cells": [
    {
      "cell_type": "code",
      "metadata": {
        "id": "8A5Jw5NR1iEI"
      },
      "source": [
        "#Declare an int value and store it in a variable. \n",
        "\n",
        "int_val = 10\n",
        "\n",
        "\n",
        "#Check the type and print the id of the same.\n",
        "\n",
        "print(type(int_val))              \n",
        "print(id(int_val))\n",
        "\n"
      ],
      "execution_count": null,
      "outputs": []
    },
    {
      "cell_type": "code",
      "metadata": {
        "id": "0YU8LFTn1rAX",
        "outputId": "daba7ead-3ce8-4a65-b089-869c1f3097bb",
        "colab": {
          "base_uri": "https://localhost:8080/",
          "height": 85
        }
      },
      "source": [
        "#Take one int value between 0 - 256.\n",
        "#Assign it to two different variables.\n",
        "#Check the id of both the variables. It should come same. Check why?\n",
        "\n",
        "val_1=200\n",
        "val_2=200\n",
        "\n",
        "print(id(val_1))\n",
        "print(id(val_2))\n",
        "\n",
        "#Answer --> One object with multipe reference if lies between Integers -5 to 256\n",
        "#           then id of that object will be same for all reference. \n",
        "\n",
        "\n",
        "\n",
        "\n",
        "\n",
        "\n",
        "\n",
        "\n",
        "\n",
        "#Take one int value either less than -5 or greater than 256.\n",
        "#Assign it to two different variables.\n",
        "#Check the id of both the variables. It should come different.Check why?\n",
        "\n",
        "val_3 = 350\n",
        "val_4 = 350\n",
        "\n",
        "print(id(val_3))\n",
        "print(id(val_4))\n",
        "\n",
        "#Answer --> Object doesn't come in range between -5 to 256\n"
      ],
      "execution_count": null,
      "outputs": [
        {
          "output_type": "stream",
          "text": [
            "10920864\n",
            "10920864\n",
            "139979200699952\n",
            "139979200699792\n"
          ],
          "name": "stdout"
        }
      ]
    },
    {
      "cell_type": "markdown",
      "metadata": {
        "id": "-cJxCaFe5rly"
      },
      "source": [
        ""
      ]
    },
    {
      "cell_type": "code",
      "metadata": {
        "id": "IOuJ3hhM7QOH"
      },
      "source": [
        ""
      ],
      "execution_count": null,
      "outputs": []
    },
    {
      "cell_type": "markdown",
      "metadata": {
        "id": "tnpbHrKd51To"
      },
      "source": [
        ""
      ]
    },
    {
      "cell_type": "code",
      "metadata": {
        "id": "YzEIG0ZZ1tSK",
        "outputId": "042c3e07-af05-4780-d139-be9493b63ed4",
        "colab": {
          "base_uri": "https://localhost:8080/",
          "height": 136
        }
      },
      "source": [
        "#Arithmatic Operations on integers\n",
        "#Take two different intger values.\n",
        "#Store them in two different variables.\n",
        "#Do below operations on them:-\n",
        "    #Find sum of both numbers\n",
        "    #Find differce between them\n",
        "    #Find the product of both numbers.\n",
        "    #Find value after dividing first num with second number\n",
        "    #Find the remainder after dividing first number with second number\n",
        "    #Find the quotient after dividing first number with second number\n",
        "    #Find the result of first num to the power of second number.\n",
        "\n",
        "\n",
        "int_1 = 20\n",
        "int_2 = 10\n",
        "add = int_1 + int_2\n",
        "diff = int_1 - int_2\n",
        "prod = int_1 * int_2\n",
        "div = int_1 / int_2   \n",
        "rem = int_1 % int_2\n",
        "quot = int_1 // int_2\n",
        "pow = int_1 ** int_2 \n",
        "print(\"Sum: \", add)\n",
        "print(\"Difference: \", diff)\n",
        "print(\"Product: \", prod)\n",
        "print(\"Divide: \", div)\n",
        "print(\"Remainder: \", rem)\n",
        "print(\"Quotient: \", quot)\n",
        "print(\"Power: \", pow)"
      ],
      "execution_count": null,
      "outputs": [
        {
          "output_type": "stream",
          "text": [
            "Sum:  30\n",
            "Difference:  10\n",
            "Product:  200\n",
            "Divide:  2.0\n",
            "Remainder:  0\n",
            "Quotient:  2\n",
            "Power:  10240000000000\n"
          ],
          "name": "stdout"
        }
      ]
    },
    {
      "cell_type": "code",
      "metadata": {
        "id": "GGM7CdzA1wGn",
        "outputId": "19b6caaf-f174-4dd4-fe08-3bb9c086f8e9",
        "colab": {
          "base_uri": "https://localhost:8080/",
          "height": 85
        }
      },
      "source": [
        "#Comparison Operators on integers\n",
        "#Take two different intger values.\n",
        "#Store them in two different variables.\n",
        "#Do below operations on them:-\n",
        "    #Compare se two numbers with below operator:-\n",
        "        #Greater than, '>'\n",
        "        #Smaller than, '<'\n",
        "        #Greater than or equal to, '>='\n",
        "        #Less than or equal to, '<='\n",
        "#Observe their output(return type should be boolean)\n",
        "\n",
        "\n",
        "a=10\n",
        "b=9\n",
        "print(a>b)\n",
        "print(a<b)\n",
        "print(a>=b)\n",
        "print(a<=b)"
      ],
      "execution_count": null,
      "outputs": [
        {
          "output_type": "stream",
          "text": [
            "True\n",
            "False\n",
            "True\n",
            "False\n"
          ],
          "name": "stdout"
        }
      ]
    },
    {
      "cell_type": "code",
      "metadata": {
        "id": "9x904sUE1y9t",
        "outputId": "17a837b2-fb89-4c71-9fdc-61a70541aef1",
        "colab": {
          "base_uri": "https://localhost:8080/",
          "height": 51
        }
      },
      "source": [
        "#Equality Operator\n",
        "#Take two different intger values.\n",
        "#Store them in two different variables.\n",
        "#Equuate them using equality operator (==, !=)\n",
        "#Observe the output(return type should be boolean)\n",
        "\n",
        "c=20\n",
        "d=25\n",
        "print(c==d)\n",
        "print(c!=d)"
      ],
      "execution_count": null,
      "outputs": [
        {
          "output_type": "stream",
          "text": [
            "False\n",
            "True\n"
          ],
          "name": "stdout"
        }
      ]
    },
    {
      "cell_type": "code",
      "metadata": {
        "id": "JmQFHUwc11S-",
        "outputId": "bb9ac327-9c93-4bdc-f166-96dcdd35071c",
        "colab": {
          "base_uri": "https://localhost:8080/",
          "height": 187
        }
      },
      "source": [
        "#Logical operators\n",
        "#Observe the output of below code\n",
        "#Cross check the output manually\n",
        "\n",
        "\"\"\"Search for false if both are true then output will be second in case of AND.\"\"\"\n",
        "print(10 and 20)       #True and True = 2nd true -------> Output is 20\n",
        "print(0 and 20)        #False and True =1st one -------->Output is 0\n",
        "print(20 and 0)        #True and False = 2nd one ------->Output is 0\n",
        "print(0 and 0)         #False and False = 1st False --------->Output is 0\n",
        "\n",
        "\"\"\"Search for true if both are false then output will be last false incase of OR\"\"\"\n",
        "print(10 or 20)        #True or True = 1st True -------->Output is 10\n",
        "print(0 or 20)         #False or True = 2nd one --------->Output is 20\n",
        "print(20 or 0)         #True or False = 1st one ---------->Output is 20\n",
        "print(0 or 0)          #False or False = last False ------->Output is 0\n",
        "\n",
        "print(not 10)          #not true = False ------------>Output is False\n",
        "print(not 0)           #not False = True --------->Output is True"
      ],
      "execution_count": null,
      "outputs": [
        {
          "output_type": "stream",
          "text": [
            "20\n",
            "0\n",
            "0\n",
            "0\n",
            "10\n",
            "20\n",
            "20\n",
            "0\n",
            "False\n",
            "True\n"
          ],
          "name": "stdout"
        }
      ]
    },
    {
      "cell_type": "code",
      "metadata": {
        "id": "-0tvoulX14Hi",
        "outputId": "1da9198e-ef2c-4fe7-a1d3-ba3ca34dcc4f",
        "colab": {
          "base_uri": "https://localhost:8080/",
          "height": 119
        }
      },
      "source": [
        "#Bitwise Operators\n",
        "#Do below operations on the values provided below:-\n",
        "    #Bitwise and(&) -----------------------------------------> 10, 20   -------> Output is 0\n",
        "    #Bitwise or(|)  -----------------------------------------> 10, 20   -------> Output is 30\n",
        "    #Bitwise(^)     -----------------------------------------> 10, 20   -------> Output is 30\n",
        "    #Bitwise negation(~) ------------------------------------> 10       -------> Output is -11\n",
        "    #Bitwise left shift  ------------------------------------> 10,2     -------> Output is 40\n",
        "    #Bitwise right shift ------------------------------------> 10,2     -------> Output is 2\n",
        "#Cross check the output manually\n",
        "\n",
        "#print(bin(10))         01010\n",
        "#print(bin(20))         10100\n",
        "#   AND                 00000\n",
        "#   OR                  11110\n",
        "#   ^                   11110\n",
        "#   ~                  -(01011)\n",
        "# 10<<2                00000000000000000000000000101000\n",
        "# 10>>2                00000000000000000000000000000010\n",
        "print(0b00000)\n",
        "print(0b11110)\n",
        "print(0b11110)\n",
        "print(-0b01011)\n",
        "print(0b101000)\n",
        "print(0b00000000000000000000000000000010)"
      ],
      "execution_count": null,
      "outputs": [
        {
          "output_type": "stream",
          "text": [
            "0\n",
            "30\n",
            "30\n",
            "-11\n",
            "40\n",
            "2\n"
          ],
          "name": "stdout"
        }
      ]
    },
    {
      "cell_type": "code",
      "metadata": {
        "id": "YCcx-Qx016hg",
        "outputId": "61b96aa9-7138-44c8-e42c-10a2224a68a7",
        "colab": {
          "base_uri": "https://localhost:8080/",
          "height": 85
        }
      },
      "source": [
        "#What is the output of expression inside print statement. Cross check before running the program.\n",
        "a = 10\n",
        "b = 10\n",
        "print(a is b)          #True bcz id is same         True or False?\n",
        "print(a is not b)      #False bcz same id           True or False?\n",
        "\n",
        "a = 1000\n",
        "b = 1000\n",
        "print(a is b)          #False bcz object reusability range is (-5 to 256)      True or False?\n",
        "print(a is not b)      #False bcz not comes in object reusability range        True or False?"
      ],
      "execution_count": null,
      "outputs": [
        {
          "output_type": "stream",
          "text": [
            "True\n",
            "False\n",
            "False\n",
            "True\n"
          ],
          "name": "stdout"
        }
      ]
    },
    {
      "cell_type": "code",
      "metadata": {
        "id": "Un2To3XN1_Il",
        "outputId": "6c914232-dea0-45f8-9202-e6c10561aa82",
        "colab": {
          "base_uri": "https://localhost:8080/"
        }
      },
      "source": [
        "#What is the output of expression inside print statement. Cross check before running the program.\n",
        "print(10+(10*32)//2**5&20+(~(-10))<<2)"
      ],
      "execution_count": null,
      "outputs": [
        {
          "output_type": "stream",
          "text": [
            "20\n"
          ],
          "name": "stdout"
        }
      ]
    },
    {
      "cell_type": "code",
      "metadata": {
        "id": "8tWajGsJCIwI",
        "outputId": "f51ec952-bad2-49e3-948f-5f3b973b9a17",
        "colab": {
          "base_uri": "https://localhost:8080/"
        }
      },
      "source": [
        "#print(2**5)=32\n",
        "#print(~(-10)<<2)=36\n",
        "#print(32&56)=32\n",
        "#print(bin(32))     100000\n",
        "#print(bin(56))     111000\n",
        "#      &            100000\n",
        "#print(10+320//32)   =20\n"
      ],
      "execution_count": null,
      "outputs": [
        {
          "output_type": "stream",
          "text": [
            "0b100000\n"
          ],
          "name": "stdout"
        }
      ]
    },
    {
      "cell_type": "code",
      "metadata": {
        "id": "kGRb5RMd1_1I",
        "outputId": "f1418b31-8a28-4888-c9a6-e0aaca4548ed",
        "colab": {
          "base_uri": "https://localhost:8080/"
        }
      },
      "source": [
        "#Membership operation\n",
        "#in, not in are two membership operators and it returns boolean value\n",
        "\n",
        "print('2' in 'Python2.7.8')               # True 2 in string\n",
        "print(10 in [10,10.20,10+20j,'Python'])   # True 10 in list\n",
        "print(10 in (10,10.20,10+20j,'Python'))   # True 10 in tuple\n",
        "print(2 in {1,2,3})                       # True 2 in set\n",
        "print(3 in {1:100, 2:200, 3:300})         # True 3 is a key in dictionary\n",
        "print(10 in range(20))                    # True 10 comes in range 0 to 20"
      ],
      "execution_count": null,
      "outputs": [
        {
          "output_type": "stream",
          "text": [
            "True\n",
            "True\n",
            "True\n",
            "True\n",
            "True\n",
            "True\n"
          ],
          "name": "stdout"
        }
      ]
    },
    {
      "cell_type": "code",
      "metadata": {
        "id": "Es7iSvL92B9W",
        "outputId": "9899a707-9a1e-412b-8549-925583a1fca2",
        "colab": {
          "base_uri": "https://localhost:8080/"
        }
      },
      "source": [
        "#An integer can be represented in binary, octal or hexadecimal form.\n",
        "#Declare one binary, one octal and one hexadecimal value and store them in three different variables.\n",
        "#Convert 9876 to its binary, octal and hexadecimal equivalent and print their corresponding value.\n",
        "\n",
        "a=28\n",
        "print(bin(28))\n",
        "bin_val=0b11100\n",
        "\n",
        "print(oct(28))\n",
        "oct_val=0o34\n",
        "\n",
        "print(hex(28))\n",
        "hex_val=0x1c\n",
        "\n",
        "\n",
        "b=9876\n",
        "print(bin(a))\n",
        "print(oct(a))\n",
        "print(hex(a))"
      ],
      "execution_count": 6,
      "outputs": [
        {
          "output_type": "stream",
          "text": [
            "0b11100\n",
            "0o34\n",
            "0x1c\n",
            "0b11100\n",
            "0o34\n",
            "0x1c\n"
          ],
          "name": "stdout"
        }
      ]
    },
    {
      "cell_type": "code",
      "metadata": {
        "id": "Hm0r03lH2E0i",
        "outputId": "02eb6fd4-c65b-47e7-fe3f-c2131de48ad5",
        "colab": {
          "base_uri": "https://localhost:8080/"
        }
      },
      "source": [
        "#What will be the outut of following:-\n",
        "a = 0b1010000\n",
        "print(a)             #integer value of a\n",
        "\n",
        "b = 0o7436\n",
        "print(b)              # integer value of b\n",
        "\n",
        "c = 0xfade\n",
        "print(c)              #integer value of c\n",
        "\n",
        "print(bin(80))          #binary value of 80\n",
        "\n",
        "print(oct(3870))         # octal value of 3870\n",
        "\n",
        "print(hex(64222))        # Hexadecimal value of 64222\n",
        "\n",
        "print(bin(0b1010000))     # binary balue of binary no\n",
        "\n",
        "print(bin(0xfade))         #binary value of hexadecimal no\n",
        "\n",
        "print(oct(0xfade))         #octal value of hexadecimal no\n",
        "\n",
        "print(oct(0o7436))       #octal value of octal no\n",
        "\n",
        "print(hex(0b1010000))       #hexadecimal value of binary no\n",
        "\n",
        "print(hex(0xfade))          #Hexadecimal value of hexadecimal no"
      ],
      "execution_count": 9,
      "outputs": [
        {
          "output_type": "stream",
          "text": [
            "80\n",
            "3870\n",
            "64222\n",
            "0b1010000\n",
            "0o7436\n",
            "0xfade\n",
            "0b1010000\n",
            "0b1111101011011110\n",
            "0o175336\n",
            "0o7436\n",
            "0x50\n",
            "0xfade\n"
          ],
          "name": "stdout"
        }
      ]
    }
  ]
}