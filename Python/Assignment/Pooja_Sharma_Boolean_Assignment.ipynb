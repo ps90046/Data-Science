{
  "nbformat": 4,
  "nbformat_minor": 0,
  "metadata": {
    "colab": {
      "name": "Pooja Sharma Boolean_Assignement.ipynb",
      "provenance": [],
      "collapsed_sections": []
    },
    "kernelspec": {
      "name": "python3",
      "display_name": "Python 3"
    }
  },
  "cells": [
    {
      "cell_type": "code",
      "metadata": {
        "id": "7JIFn6BP4M0R",
        "outputId": "82188a15-ac7c-4f82-b8e6-a509a1030efd",
        "colab": {
          "base_uri": "https://localhost:8080/"
        }
      },
      "source": [
        "#Declare a boolean value and store it in a variable. \n",
        "\n",
        "a=True\n",
        "\n",
        "#Check the type and print the id of the same.\n",
        "print(type(a))\n",
        "print(id(a))\n",
        "\n"
      ],
      "execution_count": null,
      "outputs": [
        {
          "output_type": "stream",
          "text": [
            "<class 'bool'>\n",
            "10302848\n"
          ],
          "name": "stdout"
        }
      ]
    },
    {
      "cell_type": "code",
      "metadata": {
        "id": "o9bjjhN64kAP",
        "outputId": "6a4782c6-28fe-4dec-c655-029ee639fa82",
        "colab": {
          "base_uri": "https://localhost:8080/"
        }
      },
      "source": [
        "#Take one boolean value between 0 - 256.\n",
        "#Assign it to two different variables.\n",
        "\n",
        "a=bool(22)\n",
        "b=bool(10)\n",
        "\n",
        "#Check the id of both the variables. It should come same. Check why?\n",
        "print(id(a))\n",
        "print(id(b))\n",
        "\n",
        "\"\"\"Object reusability works in boolean data type\"\"\"\n",
        "\n",
        "\n",
        "\n",
        "\n",
        "\n"
      ],
      "execution_count": null,
      "outputs": [
        {
          "output_type": "stream",
          "text": [
            "10302848\n",
            "10302848\n"
          ],
          "name": "stdout"
        }
      ]
    },
    {
      "cell_type": "code",
      "metadata": {
        "id": "yr4ETGSf4l5y",
        "outputId": "bffc4422-bd81-4e60-c853-2dfba303bac0",
        "colab": {
          "base_uri": "https://localhost:8080/"
        }
      },
      "source": [
        "#Arithmatic Operations on boolean data\n",
        "#Take two different boolean values.\n",
        "#Store them in two different variables.\n",
        "\n",
        "bool_1=bool(40)\n",
        "bool_2=bool(45)\n",
        "\n",
        "\n",
        "#Do below operations on them:-\n",
        "    #Find sum of both values\n",
        "    \n",
        "print(bool(bool_1+bool_2))\n",
        "\n",
        "    #Find differce between them\n",
        "\n",
        "print(bool(bool_1-bool_2))\n",
        "\n",
        "    #Find the product of both.\n",
        "\n",
        "print(bool(bool_1*bool_2))\n",
        "\n",
        "    #Find value after dividing first value with second value\n",
        "    \n",
        "print(bool(bool_1/bool_2))\n",
        "    \n",
        "    #Find the remainder after dividing first value with second value\n",
        "    \n",
        "print(bool(bool_1%bool_2))\n",
        "    \n",
        "    #Find the quotient after dividing first value with second value\n",
        "    \n",
        "print(bool(bool_1//bool_2))\n",
        "    #Find the result of first value to the power of second value.\n",
        "    \n",
        "print(bool(bool_1**bool_2))\n",
        "\n",
        "    "
      ],
      "execution_count": null,
      "outputs": [
        {
          "output_type": "stream",
          "text": [
            "True\n",
            "False\n",
            "True\n",
            "True\n",
            "False\n",
            "True\n",
            "True\n"
          ],
          "name": "stdout"
        }
      ]
    },
    {
      "cell_type": "code",
      "metadata": {
        "id": "xG4mX84E4n2O",
        "outputId": "ea496d9d-c928-4287-f2b4-b832892f1007",
        "colab": {
          "base_uri": "https://localhost:8080/"
        }
      },
      "source": [
        "#Comparison Operators on boolean values\n",
        "#Take two different boolean values.\n",
        "#Store them in two different variables.\n",
        "val_1=bool(13)\n",
        "val_2=bool(2)\n",
        "\n",
        "\n",
        "#Do below operations on them:-\n",
        "    #Compare these two values with below operator:-\n",
        "        #Greater than, '>'\n",
        "    \n",
        "print(val_1>val_2)\n",
        "\n",
        "        #less than, '<'\n",
        "    \n",
        "print(val_1<val_2)\n",
        "        \n",
        "        #Greater than or equal to, '>='\n",
        "\n",
        "print(val_1>=val_2)\n",
        "\n",
        "        #Less than or equal to, '<='    \n",
        "\n",
        "print(val_1<=val_2)\n",
        "\n",
        "#Observe their output(return type should be boolean)\n",
        "\n",
        "\n"
      ],
      "execution_count": null,
      "outputs": [
        {
          "output_type": "stream",
          "text": [
            "False\n",
            "False\n",
            "True\n",
            "True\n"
          ],
          "name": "stdout"
        }
      ]
    },
    {
      "cell_type": "code",
      "metadata": {
        "id": "TUIo2Z9V4qBJ",
        "outputId": "32c50aa3-5fd6-401f-e206-36d307485299",
        "colab": {
          "base_uri": "https://localhost:8080/"
        }
      },
      "source": [
        "#Equality Operator\n",
        "#Take two different boolean values.\n",
        "#Store them in two different variables.\n",
        "\n",
        "a=bool(10)\n",
        "b=bool(20)\n",
        "\n",
        "\n",
        "#Equuate them using equality operator (==, !=)\n",
        "print(a==b)\n",
        "print(a!=b)\n",
        "\n",
        "#Observe the output(return type should be boolean)\n",
        "\n"
      ],
      "execution_count": null,
      "outputs": [
        {
          "output_type": "stream",
          "text": [
            "True\n",
            "False\n"
          ],
          "name": "stdout"
        }
      ]
    },
    {
      "cell_type": "code",
      "metadata": {
        "id": "XukEq5E44rxv",
        "outputId": "e8e1e6c3-95c7-4bc4-ddf2-a0bbed0e15d2",
        "colab": {
          "base_uri": "https://localhost:8080/"
        }
      },
      "source": [
        "#Logical operators\n",
        "#Observe the output of below code\n",
        "#Cross check the output manually\n",
        "\n",
        "\"\"\"Search for false if not available then last true\"\"\"\n",
        "print(True and True)        # last True-------->Output is True\n",
        "print(False and True)        # False---------->Output is False\n",
        "print(True and False)        # False--------->Output is False\n",
        "print(False and False)       # 1st False--------->Output is False\n",
        "\n",
        "\"\"\"Search for true if not available then output will be last true\"\"\"\n",
        "print(True or True)          # 1st True --------->Output is True\n",
        "print(False or True)         # True -------->Output is True\n",
        "print(True or False)         # True -------->Output is True\n",
        "print(False or False)        # Last False -------->Output is False\n",
        "\n",
        "print(not True)              # not True = False --------->Output is False\n",
        "print(not False)             # not False = True ---------->Output is True"
      ],
      "execution_count": null,
      "outputs": [
        {
          "output_type": "stream",
          "text": [
            "True\n",
            "False\n",
            "False\n",
            "False\n",
            "True\n",
            "True\n",
            "True\n",
            "False\n",
            "False\n",
            "True\n"
          ],
          "name": "stdout"
        }
      ]
    },
    {
      "cell_type": "code",
      "metadata": {
        "id": "02jPgt094vK-",
        "outputId": "ef7ffcd7-036e-4cbc-fd6c-ef0a4bdea5fa",
        "colab": {
          "base_uri": "https://localhost:8080/"
        }
      },
      "source": [
        "#Bitwise Operators\n",
        "#Do below operations on the values provided below:-\n",
        "    #Bitwise and(&) -----------------------------------------> True, True    -------> Output is True\n",
        "    \n",
        "\n",
        "\n",
        "    #Bitwise or(|)  -----------------------------------------> True, False   -------> Output is True\n",
        "\n",
        "\n",
        "\n",
        "    #Bitwise(^)     -----------------------------------------> True, False   -------> Output is True\n",
        "\n",
        "  \n",
        "\n",
        "    #Bitwise negation(~) ------------------------------------> True          -------> Output is -2\n",
        "\n",
        "   \n",
        "\n",
        "    #Bitwise left shift  ------------------------------------> True,2        -------> Output is 4\n",
        "\n",
        "\n",
        "\n",
        "    #Bitwise right shift ------------------------------------> True,2        -------> Output is 0\n",
        "\n",
        "\n",
        "\n",
        "#Cross check the output manually\n",
        "print(True & True)\n",
        "print(True | False)\n",
        "print(True ^ False)\n",
        "print(~ True)\n",
        "print(True<<2)\n",
        "print(True>>2)"
      ],
      "execution_count": 3,
      "outputs": [
        {
          "output_type": "stream",
          "text": [
            "True\n",
            "True\n",
            "True\n",
            "-2\n",
            "4\n",
            "0\n"
          ],
          "name": "stdout"
        }
      ]
    },
    {
      "cell_type": "code",
      "metadata": {
        "id": "cy5i7sWz4v_c",
        "outputId": "82f0b048-9541-400b-84e9-d4590e50d1b7",
        "colab": {
          "base_uri": "https://localhost:8080/"
        }
      },
      "source": [
        " #What is the output of expression inside print statement. Cross check before running the program.\n",
        "a = True\n",
        "b = True\n",
        "print(a is b)          #True or False?   True bcz a and b have same id.Boolean follows object reusability concept\n",
        "print(a is not b)      #True or False?   False bcz id is same for both a and b\n",
        "\n",
        "a =False\n",
        "b= False\n",
        "print(a is b)          #True or False?     True bcz of Object Reusability a and b have same id\n",
        "print(a is not b)      #True or False?     False bcz id is same for both a and b"
      ],
      "execution_count": 4,
      "outputs": [
        {
          "output_type": "stream",
          "text": [
            "True\n",
            "False\n",
            "True\n",
            "False\n"
          ],
          "name": "stdout"
        }
      ]
    },
    {
      "cell_type": "code",
      "metadata": {
        "id": "AOcPQi8544M-",
        "outputId": "db717cae-3181-43a7-d2bd-5d5c7626e7d0",
        "colab": {
          "base_uri": "https://localhost:8080/"
        }
      },
      "source": [
        "#Membership operation\n",
        "#in, not in are two membership operators and it returns boolean value\n",
        "\n",
        "print(True in [10,10.20,10+20j,'Python', True])       # True present in list\n",
        "print(False in (10,10.20,10+20j,'Python', False))     # False present in tuple\n",
        "print(True in {1,2,3, True})                          # True present in set\n",
        "print(True in {True:100, False:200, True:300})        # True is a key in dictionary\n",
        "print(False in {True:100, False:200, True:300})       # False is a key in dictionary"
      ],
      "execution_count": 6,
      "outputs": [
        {
          "output_type": "stream",
          "text": [
            "True\n",
            "True\n",
            "True\n",
            "True\n",
            "True\n"
          ],
          "name": "stdout"
        }
      ]
    },
    {
      "cell_type": "code",
      "metadata": {
        "id": "MPa1Lpco46Ja"
      },
      "source": [
        ""
      ],
      "execution_count": 4,
      "outputs": []
    }
  ]
}