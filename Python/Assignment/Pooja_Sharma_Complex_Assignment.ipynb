{
  "nbformat": 4,
  "nbformat_minor": 0,
  "metadata": {
    "colab": {
      "name": "Pooja Sharma Complex_Assignement.ipynb",
      "provenance": [],
      "collapsed_sections": []
    },
    "kernelspec": {
      "name": "python3",
      "display_name": "Python 3"
    }
  },
  "cells": [
    {
      "cell_type": "code",
      "metadata": {
        "id": "JoMbQLjK3uHZ",
        "outputId": "a82798f9-0ad2-4c63-cb93-228fb991ca95",
        "colab": {
          "base_uri": "https://localhost:8080/"
        }
      },
      "source": [
        "#Declare a complex number and store it in a variable. \n",
        "\n",
        "val_1 = 4+5j\n",
        "\n",
        "\n",
        "#Check the type and print the id of the same.\n",
        "\n",
        "print(type(val_1))\n",
        "print(id(val_1))"
      ],
      "execution_count": 2,
      "outputs": [
        {
          "output_type": "stream",
          "text": [
            "<class 'complex'>\n",
            "139691893855568\n"
          ],
          "name": "stdout"
        }
      ]
    },
    {
      "cell_type": "code",
      "metadata": {
        "id": "6N6Ee4BU33jk",
        "outputId": "241caac7-dda9-431c-c55a-ecc9bae8f39c",
        "colab": {
          "base_uri": "https://localhost:8080/"
        }
      },
      "source": [
        "#Arithmatic Operations on complex number\n",
        "#Take two different complex number.\n",
        "#Store them in two different variables.\n",
        "\n",
        "a=10+6j\n",
        "b=5+4j\n",
        "\n",
        "#Do below operations on them:-\n",
        "    #Find sum of both numbers\n",
        "print(a+b)\n",
        "\n",
        "    #Find differce between them\n",
        "print(a-b)\n",
        "\n",
        "    #Find the product of both numbers.\n",
        "print(a*b)\n",
        "\n",
        "    #Find value after dividing first num with second number\n",
        "print(a/b)\n",
        "\n",
        "    #Find the result of first num to the power of second number.\n",
        "print(a**b)\n",
        "\n"
      ],
      "execution_count": 3,
      "outputs": [
        {
          "output_type": "stream",
          "text": [
            "(15+10j)\n",
            "(5+2j)\n",
            "(26+70j)\n",
            "(1.804878048780488-0.24390243902439027j)\n",
            "(24814.909725769638-967.3613829794202j)\n"
          ],
          "name": "stdout"
        }
      ]
    },
    {
      "cell_type": "code",
      "metadata": {
        "id": "xhkdg7LD352y"
      },
      "source": [
        "#Comparison Operation not applicable between instance of complex values\n",
        "\"\"\"yes bcz noordering relation defined for comple nos\"\"\"\n",
        "\n",
        "#Object reusability concept is not applicable on complex numebr\n",
        "\"\"\"yes object reusability concept applicable for integers (-5to 256),string(A-Z,a-z,0-9,),boolean and None\"\"\"\n",
        "\n"
      ],
      "execution_count": null,
      "outputs": []
    },
    {
      "cell_type": "code",
      "metadata": {
        "id": "4lzPH2sb38KM",
        "outputId": "9a04a8c6-1c9c-4268-db26-8e9b23adcc57",
        "colab": {
          "base_uri": "https://localhost:8080/"
        }
      },
      "source": [
        "#Equality Operator\n",
        "#Take two different complex numbers.\n",
        "#Store them in two different variables.\n",
        "cpl_1=12+6j\n",
        "cpl_2=10+8j\n",
        "\n",
        "#Equuate them using equality operator (==, !=)\n",
        "print(cpl_1==cpl_2)\n",
        "print(cpl_1!=cpl_2)\n",
        "#Observe the output(return type should be boolean)\n",
        "\n",
        "\n",
        "\n",
        "\n",
        "\n"
      ],
      "execution_count": 8,
      "outputs": [
        {
          "output_type": "stream",
          "text": [
            "False\n",
            "True\n"
          ],
          "name": "stdout"
        }
      ]
    },
    {
      "cell_type": "code",
      "metadata": {
        "id": "EDEl19UD3_tr",
        "outputId": "5c369a01-5762-4d25-cdc1-d39b40153868",
        "colab": {
          "base_uri": "https://localhost:8080/"
        }
      },
      "source": [
        "#Logical operators\n",
        "#Observe the output of below code\n",
        "#Cross check the output manually\n",
        "\"\"\"Search for false value if both are true then output will be last one incase of and\"\"\"\n",
        "print(10+20j and 20+30j)    #20+30j    #true and true=last true --------->Output is 20+30j\n",
        "print(0+0j and 20+30j)      #0+0j    #false and true =false ---------->Output is 0j\n",
        "print(20+30j and 0+0j)      #0+0j   #true and false = false ------->Output is 0j\n",
        "print(0+0j and 0+0j)        #0+0j   #false and false = 1st false --------->Output is 0j\n",
        "\n",
        "\"\"\"Search for true value if both are false then output will be 2nd in case of or\"\"\"\n",
        "print(10+20j or 20+30j)     #10+20j   #true or true = 1st true ------->Output is 10+20j\n",
        "print(0+0j or 20+30j)       #20+30j   #false or true = true -------->Output is 20+30j\n",
        "print(20+30j or 0+0j)       #20+30j  #true or false =true --------->Output is 20+30j\n",
        "print(0+0j or 0+0j)         #0+0j   #false or false =last false --------->Output is 0j\n",
        "\n",
        "print(not 10+20j)           #False   #not true = false --------->Output is False\n",
        "print(not 0+0j)             #True   #not false =true --------->Output is True"
      ],
      "execution_count": 6,
      "outputs": [
        {
          "output_type": "stream",
          "text": [
            "(20+30j)\n",
            "0j\n",
            "0j\n",
            "0j\n",
            "(10+20j)\n",
            "(20+30j)\n",
            "(20+30j)\n",
            "0j\n",
            "False\n",
            "True\n"
          ],
          "name": "stdout"
        }
      ]
    },
    {
      "cell_type": "code",
      "metadata": {
        "id": "4ifueKbP4Br1",
        "outputId": "8fe0696f-5d3a-4834-85eb-20213ef138df",
        "colab": {
          "base_uri": "https://localhost:8080/"
        }
      },
      "source": [
        "#What is the output of expression inside print statement. Cross check before running the program.\n",
        "a = 10+20j\n",
        "b = 10+20j\n",
        "print(a is b)       #False   #True or False? \n",
        "\"\"\"object reusability concept doesn't work for complex objects so id will be diff for both variables\"\"\"\n",
        "print(a is not b)   #True   #True or False?\n"
      ],
      "execution_count": 5,
      "outputs": [
        {
          "output_type": "stream",
          "text": [
            "False\n",
            "True\n"
          ],
          "name": "stdout"
        }
      ]
    },
    {
      "cell_type": "code",
      "metadata": {
        "id": "TxMbr5jQ4Dwl",
        "outputId": "85d37f6e-46a6-412c-a97d-c02c9b4ae6a7",
        "colab": {
          "base_uri": "https://localhost:8080/"
        }
      },
      "source": [
        "#Membership operation\n",
        "#in, not in are two membership operators and it returns boolean value\n",
        "\n",
        "print('2.7' in 'Python2.7.8')                      #True 2.7 is in string\n",
        "print(10+20j in [10,10.20,10+20j,'Python'])        #True 10+20j is in list\n",
        "print(10+20j in (10,10.20,10+20j,'Python'))        #True 10+20j is in tuple\n",
        "print(30+40j in {1,20.30,30+40j})                  #True 30+40j is in set\n",
        "print(30+40j in {1:100, 2.3:200, 30+40j:300})      #True 30+40j is a key in dictionary\n",
        "print(10 in range(20))                             #True 10 is in range(0:20)"
      ],
      "execution_count": 4,
      "outputs": [
        {
          "output_type": "stream",
          "text": [
            "True\n",
            "True\n",
            "True\n",
            "True\n",
            "True\n",
            "True\n"
          ],
          "name": "stdout"
        }
      ]
    }
  ]
}