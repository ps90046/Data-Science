{
 "cells": [
  {
   "cell_type": "markdown",
   "metadata": {
    "id": "wNRNTbrsc53d"
   },
   "source": [
    "# If - elif - else statement"
   ]
  },
  {
   "cell_type": "code",
   "execution_count": null,
   "metadata": {
    "colab": {
     "base_uri": "https://localhost:8080/"
    },
    "id": "MiPfTnBycxNa",
    "outputId": "f89ca680-a136-4c87-cb8a-6081a68535d5"
   },
   "outputs": [
    {
     "name": "stdout",
     "output_type": "stream",
     "text": [
      "Enter any no between 0 to 9: 5\n",
      "Five\n"
     ]
    }
   ],
   "source": [
    "#W. A P. which takes one number from 0 to 9 from the user and prints it in the word. And if the word is not from 0 to 9 then\n",
    "#it should print that number is outside of the range and program should exit.\n",
    "# For exapmple:- \n",
    "# input = 1\n",
    "# output = one\n",
    "\n",
    "num=int(input(\"Enter any no between 0 to 9: \"))\n",
    "if num==1:\n",
    "  print(\"one\")\n",
    "elif num==2:\n",
    "  print(\"Two\")\n",
    "elif num==3:\n",
    "  print(\"Three\")\n",
    "elif num==4:\n",
    "  print(\"Four\")\n",
    "elif num==5:\n",
    "  print(\"Five\")\n",
    "elif num==6:\n",
    "  print(\"Six\")\n",
    "elif num==7:\n",
    "  print(\"Seven\")\n",
    "elif num==8:\n",
    "  print(\"Eight\")\n",
    "elif num==9:\n",
    "  print(\"Nine\")\n",
    "else:\n",
    "  print(\"Number is outside of the range\")"
   ]
  },
  {
   "cell_type": "code",
   "execution_count": null,
   "metadata": {
    "id": "hvQd63AUOsgM"
   },
   "outputs": [],
   "source": []
  },
  {
   "cell_type": "code",
   "execution_count": null,
   "metadata": {
    "colab": {
     "base_uri": "https://localhost:8080/"
    },
    "id": "vEMNOv9zdA39",
    "outputId": "600caacb-1e2d-4703-ebfa-c0cb57ac41d6"
   },
   "outputs": [
    {
     "name": "stdout",
     "output_type": "stream",
     "text": [
      "Enter first no: 2\n",
      "Enter second no: 8\n",
      "Please select any operation from below:\n",
      " To add enter 1\n",
      " To To subtract enter 2\n",
      " To Multiply enter 3\n",
      " To divide enter 4\n",
      " To divide and find quotient enter 5\n",
      " To divide and find remainder enter 6\n",
      " To divide and find num1 to the power of num2 enter 7\n",
      " To come out of the program enter 8\n",
      "8\n"
     ]
    }
   ],
   "source": [
    "#W. A P. to implement calculator but the operation to be done and two numbers will be taken as input from user:-\n",
    "#Operation console should show below:-\n",
    "#     Please select any one operation from below:-\n",
    "#         * To add enter 1\n",
    "#         * to subtract enter 2\n",
    "#         * To multiply enter 3\n",
    "#         * To divide enter 4\n",
    "#         * To divide and find quotient enter 5\n",
    "#         * To divide and find remainder enter 6\n",
    "#         * To divide and find num1 to the power of num2 enter 7\n",
    "#         * To Come out of the program enter 8\n",
    "\n",
    "\n",
    "num1 = int(input(\"Enter first no: \"))\n",
    "num2 = int(input(\"Enter second no: \"))\n",
    "choice = int(input(print(\"\"\"Please select any operation from below:\\n To add enter 1\\n To To subtract enter 2\n",
    " To Multiply enter 3\\n To divide enter 4\\n To divide and find quotient enter 5\n",
    " To divide and find remainder enter 6\\n To divide and find num1 to the power of num2 enter 7\n",
    " To come out of the program enter 8\"\"\")))\n",
    "if choice==1:\n",
    "  print(num1+num2)\n",
    "elif choice==2:\n",
    "  print(num1-num2)\n",
    "elif choice==3:\n",
    "  print(num1*num2)\n",
    "elif choice==4:\n",
    "  print(num1/num2)\n",
    "elif choice==5:\n",
    "  print(num1//num2)\n",
    "elif choice==6:\n",
    "  print(num1//num2)\n",
    "elif choice==7:\n",
    "  print(num1**num2)\n",
    "else:\n",
    "  exit"
   ]
  },
  {
   "cell_type": "code",
   "execution_count": null,
   "metadata": {
    "colab": {
     "base_uri": "https://localhost:8080/"
    },
    "id": "1e2gwYLqdC1s",
    "outputId": "d3a00481-19f8-42bc-95fa-de9c4ae474f3"
   },
   "outputs": [
    {
     "name": "stdout",
     "output_type": "stream",
     "text": [
      "Please enter a year: 1200\n",
      "1200 is a leap year\n"
     ]
    }
   ],
   "source": [
    "#W A P to check whether a year entered by user is an leap year or not?\n",
    "#Check with below input:-\n",
    "    #leap year:- 2012, 1968, 2004, 1200, 1600,2400\n",
    "    #Non-lear year:- 1971, 2006, 1700,1800,1900\n",
    "    \n",
    "year=int(input(\"Please enter a year: \"))\n",
    "if year % 4 == 0:\n",
    "  if year % 100 == 0:\n",
    "    if year % 400 == 0:\n",
    "      print(\"{0} is a leap year\".format(year))\n",
    "    else:\n",
    "      print(\"{0} is not a leap year\".format(year))\n",
    "  else:\n",
    "    print(\"{0} is not a leap year\".format(year))\n",
    "else:\n",
    "   print(\"{year} is not a leap year\".format(0))"
   ]
  },
  {
   "cell_type": "code",
   "execution_count": null,
   "metadata": {
    "colab": {
     "base_uri": "https://localhost:8080/"
    },
    "id": "_tpXv1EtdEre",
    "outputId": "c95ec0f6-a4ca-4877-ff7b-55bc5d752be3"
   },
   "outputs": [
    {
     "name": "stdout",
     "output_type": "stream",
     "text": [
      "Enter a no: 6\n",
      "6 is even no\n"
     ]
    }
   ],
   "source": [
    "#W A P which takes one number from the user and checks whether it is an even or odd number?, If it even then prints number is \n",
    "#even number else prints that number is odd number.\n",
    "\n",
    "num = int(input(\"Enter a no: \"))\n",
    "if num % 2 == 0:\n",
    "  print(\"{0} is even no\".format(num))\n",
    "else:\n",
    "  print(\"{num} is odd no\".format(num))"
   ]
  },
  {
   "cell_type": "code",
   "execution_count": null,
   "metadata": {
    "colab": {
     "base_uri": "https://localhost:8080/"
    },
    "id": "Q1HumymCdG6i",
    "outputId": "629e3cd0-5c08-4bb3-aeea-1998e4028a00"
   },
   "outputs": [
    {
     "name": "stdout",
     "output_type": "stream",
     "text": [
      "Enter first no: 1\n",
      "Enter second no: 1\n",
      "1 is equal to 1\n"
     ]
    }
   ],
   "source": [
    "#W A P which takes two numbers from the user and prints below output:-\n",
    "#     1. num1 is greater than num2 if num1 is greater than num2\n",
    "#     2. num1 is smaller than num2 if num1 is smaller than num2\n",
    "#     3. num1 is equal to num2 if num1 and num2 are equal\n",
    "\n",
    "#Note:- 1. Do this problem using if - else \n",
    "#       2. Do this using ternary operator\n",
    "\n",
    "\n",
    "\"\"\"Using if -Else\"\"\"\n",
    "val1=int(input(\"Enter first no: \"))\n",
    "val2=int(input(\"Enter second no: \"))\n",
    "if val1>val2:\n",
    "  print(\"{0} is greater than {1}\".format(val1,val2))\n",
    "elif val1<val2:\n",
    "  print(\"{0} is smaller than{1}\".format(val1,val2) )\n",
    "else:\n",
    "  print(\"{0} is equal to {1}\".format(val1,val2))\n",
    "\n"
   ]
  },
  {
   "cell_type": "code",
   "execution_count": null,
   "metadata": {
    "colab": {
     "base_uri": "https://localhost:8080/"
    },
    "id": "_yD2SQdgkRSc",
    "outputId": "a1719367-2d18-4d67-da6b-81a21c3e414c"
   },
   "outputs": [
    {
     "name": "stdout",
     "output_type": "stream",
     "text": [
      "Enter first no: 3\n",
      "Enter second no: 4\n",
      "3 is smaller than 4\n"
     ]
    }
   ],
   "source": [
    "\"\"\"Usinf ternary operator\"\"\"\n",
    "val1=int(input(\"Enter first no: \"))\n",
    "val2=int(input(\"Enter second no: \"))\n",
    "print('{} is greater than {}'.format(val1,val2) if (val1>val2) else '{} is smaller than {}'.format(val1,val2) if(val1<val2) else '{} is equal to {}'.format(val1,val2))\n",
    "\n"
   ]
  },
  {
   "cell_type": "code",
   "execution_count": null,
   "metadata": {
    "colab": {
     "base_uri": "https://localhost:8080/"
    },
    "id": "LR6TVB-DdOPf",
    "outputId": "8a82db19-f987-4ace-bdd9-d15bf11832eb"
   },
   "outputs": [
    {
     "name": "stdout",
     "output_type": "stream",
     "text": [
      "Enter first no: 6\n",
      "Enter second no: 5\n",
      "Enter third no: 4\n",
      "num1 is greater than num2 and num3\n"
     ]
    }
   ],
   "source": [
    "#W A P which takes three numbers from the user and prints below output:-\n",
    "#     1. num1 is greater than num2 and num3 if num1 is greater than num2 and num3\n",
    "#     2. num2 is greater than num1 and num3 if num2 is greater than num1 and num3\n",
    "#     3. num3 is greater than num1 and num2 if num3 is greater than num1 and num2\n",
    "\n",
    "#Note:- 1. Do this problem using if - elif - else \n",
    "#       2. Do this using ternary operator\n",
    "\n",
    "# a = a if a>b else b\n",
    "num1=int(input(\"Enter first no: \"))\n",
    "num2=int(input(\"Enter second no: \"))\n",
    "num3=int(input(\"Enter third no: \"))\n",
    "if num1>num2 and num1>num3:\n",
    "  print(\"num1 is greater than num2 and num3\")\n",
    "elif num2>num3:\n",
    "  print(\"num2 is greater than num1 and num3\")\n",
    "else:\n",
    "  print(\"num3 is greater than num1 and num2\")\n",
    "\n"
   ]
  },
  {
   "cell_type": "code",
   "execution_count": null,
   "metadata": {
    "colab": {
     "base_uri": "https://localhost:8080/"
    },
    "id": "pPoYcDT8yuOi",
    "outputId": "b2423eb5-9a99-4801-f767-df0a82805ede"
   },
   "outputs": [
    {
     "name": "stdout",
     "output_type": "stream",
     "text": [
      "Enter first no: 1\n",
      "Enter second no: 2\n",
      "Enter third no: 3\n",
      "num3 is greater than num1 and num2\n"
     ]
    }
   ],
   "source": [
    "\"\"\"Using ternary operator\"\"\"\n",
    "num1=int(input(\"Enter first no: \"))\n",
    "num2=int(input(\"Enter second no: \"))\n",
    "num3=int(input(\"Enter third no: \"))\n",
    "print(\"num1 is greater than num2 and num3\" if(num1>num2 and num1>num3) else \"num2 is greater than num1 and num3\" if(num2>num3) else \"num3 is greater than num1 and num2\")"
   ]
  },
  {
   "cell_type": "markdown",
   "metadata": {
    "id": "IoOLQMUGdSox"
   },
   "source": [
    " i# Loops - for loop, while loops"
   ]
  },
  {
   "cell_type": "code",
   "execution_count": null,
   "metadata": {
    "colab": {
     "base_uri": "https://localhost:8080/"
    },
    "id": "9K23Uld8dQfA",
    "outputId": "2912a2a6-edd0-4ce8-f4e8-175a58ed1901"
   },
   "outputs": [
    {
     "name": "stdout",
     "output_type": "stream",
     "text": [
      "55\n"
     ]
    }
   ],
   "source": [
    "#Write a Python program to find the length of the my_str using loop:-\n",
    "\n",
    "#Input:- 'Write a Python program to find the length of the my_str'\n",
    "#Output:- 55\n",
    "str=\"Write a Python program to find the length of the my_str\"\n",
    "def len_of_str(str):\n",
    "  n=0\n",
    "  for i in str:\n",
    "    n+=1\n",
    "  return n\n",
    "print(len_of_str(str))"
   ]
  },
  {
   "cell_type": "code",
   "execution_count": null,
   "metadata": {
    "colab": {
     "base_uri": "https://localhost:8080/"
    },
    "id": "bp6AcqTsdYxy",
    "outputId": "94f5019f-1817-4eb9-949f-0444beacbc17"
   },
   "outputs": [
    {
     "name": "stdout",
     "output_type": "stream",
     "text": [
      "9\n"
     ]
    }
   ],
   "source": [
    "#Write a Python program to find the total number of times letter 'p' is appeared in the below string using loop:-\n",
    "    \n",
    "#Input:- 'peter piper picked a peck of pickled peppers.\\n'\n",
    "#Output:- 9\n",
    "\n",
    "str=\"peter piper picked a peck of pickled peppers.\\n\"\n",
    "def letter_find(str):\n",
    "  for i in str:\n",
    "    if i=='p':\n",
    "      return str.count(\"p\")\n",
    "print(letter_find(str))\n"
   ]
  },
  {
   "cell_type": "code",
   "execution_count": null,
   "metadata": {
    "colab": {
     "base_uri": "https://localhost:8080/"
    },
    "id": "xvxSBhTJdav1",
    "outputId": "12fc237c-1e6d-4e69-e3d8-c735ea8a0a39"
   },
   "outputs": [
    {
     "name": "stdout",
     "output_type": "stream",
     "text": [
      "0\n",
      "6\n",
      "8\n",
      "12\n",
      "21\n",
      "29\n",
      "37\n",
      "39\n",
      "40\n"
     ]
    }
   ],
   "source": [
    "#Write a Python Program, to print all the indexes of all occurences of letter 'p' appeared in the string using loop:-\n",
    "    \n",
    "#Input:- 'peter piper picked a peck of pickled peppers.'\n",
    "#Output:- \n",
    "# 0\n",
    "# 6\n",
    "# 8\n",
    "# 12\n",
    "# 21\n",
    "# 29\n",
    "# 37\n",
    "# 39\n",
    "# 40\n",
    "\n",
    "str=\"peter piper picked a peck of pickled peppers.\"\n",
    "counter=0\n",
    "for i in range(0,len(str)):\n",
    "  if str[i] == 'p':\n",
    "    print(i)\n",
    "    counter+=1\n",
    "\n",
    "\n",
    "\n",
    "\n"
   ]
  },
  {
   "cell_type": "code",
   "execution_count": null,
   "metadata": {
    "colab": {
     "base_uri": "https://localhost:8080/"
    },
    "id": "79L_feMadbmw",
    "outputId": "82b7d9a1-ef44-42a9-cc43-dcd7c43bb5dd"
   },
   "outputs": [
    {
     "name": "stdout",
     "output_type": "stream",
     "text": [
      "['peter', 'piper', 'picked', 'a', 'peck', 'of', 'pickled', 'peppers']\n"
     ]
    }
   ],
   "source": [
    "#Write a python program to find below output using loop:-\n",
    "\n",
    "#Input:- 'peter piper picked a peck of pickled peppers.'\n",
    "#Output:- ['peter', 'piper', 'picked', 'a', 'peck', 'of', 'pickled', 'peppers']\n",
    "\n",
    "str='peter piper picked a peck of pickled peppers.'\n",
    "a=''\n",
    "lst=[]\n",
    "for i in str:\n",
    "  if i==' ' or i=='.':\n",
    "    lst.append(a)\n",
    "    a=''\n",
    "  else:\n",
    "    a=a+i\n",
    "print(lst)\n"
   ]
  },
  {
   "cell_type": "code",
   "execution_count": null,
   "metadata": {
    "colab": {
     "base_uri": "https://localhost:8080/"
    },
    "id": "vzs5AJ53deVS",
    "outputId": "cc57d3e2-c147-4d9e-d912-f76dbe8c44eb"
   },
   "outputs": [
    {
     "name": "stdout",
     "output_type": "stream",
     "text": [
      " peppers pickled of peck a picked piper peter\n"
     ]
    }
   ],
   "source": [
    "#Write a python program to find below output using loop:-\n",
    "\n",
    "#Input:- 'peter piper picked a peck of pickled peppers.'\n",
    "#Output:- 'peppers pickled of peck a picked piper peter'\n",
    "\n",
    "str='peter piper picked a peck of pickled peppers.'\n",
    "a=''\n",
    "lst=[]\n",
    "for i in str:\n",
    "  if i==\" \" or i=='.':\n",
    "    lst.append(a)\n",
    "    a=''\n",
    "  else:\n",
    "    a=a+i\n",
    "b=''\n",
    "for i in range(-1,-len(lst)-1,-1):\n",
    "  b = b+ ' ' + lst[i]\n",
    "print(b)\n"
   ]
  },
  {
   "cell_type": "code",
   "execution_count": null,
   "metadata": {
    "colab": {
     "base_uri": "https://localhost:8080/"
    },
    "id": "i-HP7DrCdhwS",
    "outputId": "4d54680c-97be-406b-85fb-3b7e46b5002c"
   },
   "outputs": [
    {
     "name": "stdout",
     "output_type": "stream",
     "text": [
      ".sreppep delkcip fo kcep a dekcip repip retep"
     ]
    }
   ],
   "source": [
    "#Write a python program to find below output using loop:-\n",
    "\n",
    "#Input:- 'peter piper picked a peck of pickled peppers.'\n",
    "#Output:- '.sreppep delkcip fo kcep a dekcip repip retep'\n",
    "\n",
    "str='peter piper picked a peck of pickled peppers.'\n",
    "lst=list(str)\n",
    "for i in range(len(lst)):\n",
    "  print(lst[-1-i],end='')\n",
    "\n",
    "\n"
   ]
  },
  {
   "cell_type": "code",
   "execution_count": null,
   "metadata": {
    "colab": {
     "base_uri": "https://localhost:8080/"
    },
    "id": "3rt6p0ytdkq0",
    "outputId": "bfcb25e7-3274-4937-a2ad-c41c6a578094"
   },
   "outputs": [
    {
     "name": "stdout",
     "output_type": "stream",
     "text": [
      "retep repip dekcip a kcep fo delkcip sreppep "
     ]
    }
   ],
   "source": [
    "#Write a python program to find below output using loop:-\n",
    "\n",
    "#Input:- 'peter piper picked a peck of pickled peppers.'\n",
    "#Output:- 'retep repip dekcip a kcep fo delkcip sreppep'\n",
    "\n",
    "inp_str= 'peter piper picked a peck of pickled peppers.'\n",
    "\n",
    "lst = list(inp_str)\n",
    "lst2 = []\n",
    " \n",
    "for i in range(len(lst)):\n",
    "    if lst[i] == ' ' or lst[i] == '.':\n",
    "        for j in range(len(lst2)):\n",
    "            print(lst2[-1-j], end='')\n",
    "        print(' ', end = '')\n",
    "        lst2 = []\n",
    "    else:\n",
    "        lst2.append(lst[i])\n"
   ]
  },
  {
   "cell_type": "code",
   "execution_count": null,
   "metadata": {
    "colab": {
     "base_uri": "https://localhost:8080/"
    },
    "id": "HdlAWgT2dnKO",
    "outputId": "1e5c9c8d-165c-42a3-c078-899345c68882"
   },
   "outputs": [
    {
     "name": "stdout",
     "output_type": "stream",
     "text": [
      "Peter Piper Picked A Peck Of Pickled Peppers\n"
     ]
    }
   ],
   "source": [
    "#Write a python program to find below output using loop:-\n",
    "\n",
    "#Input:- 'peter piper picked a peck of pickled peppers.'\n",
    "#Output:- 'Peter Piper Picked A Peck Of Pickled Peppers'\n",
    "\n",
    "lst = list('peter piper picked a peck of pickled peppers.')\n",
    "str1 = ''\n",
    "\n",
    "for i in range(len(lst)):\n",
    "    if lst[i] == ' ':\n",
    "        print(str1.capitalize(),end = '')\n",
    "        print(' ', end = '')\n",
    "        str1 = ''\n",
    "    elif lst[i] == '.':\n",
    "        print(str1.capitalize())\n",
    "    else:\n",
    "        str1 = str1 + lst[i]\n"
   ]
  },
  {
   "cell_type": "code",
   "execution_count": null,
   "metadata": {
    "colab": {
     "base_uri": "https://localhost:8080/"
    },
    "id": "OthUuacodrNl",
    "outputId": "6fcd0daf-b3cd-473a-bdec-af977d5073f7"
   },
   "outputs": [
    {
     "name": "stdout",
     "output_type": "stream",
     "text": [
      "Peter piper picked a peck of pickled peppers."
     ]
    }
   ],
   "source": [
    "#Write a python program to find below output using loop:-\n",
    "\n",
    "#Input:- 'Peter Piper Picked A Peck Of Pickled Peppers.'\n",
    "#Output:- 'Peter piper picked a peck of pickled peppers'\n",
    "\n",
    "str = 'peter piper picked a peck of pickled peppers.'\n",
    "lst=list(str)\n",
    "for i in range(len(str)):\n",
    "  if i==0:\n",
    "    print(lst[i].upper(), end='')\n",
    "  else:\n",
    "    print(lst[i].lower(), end='')\n"
   ]
  },
  {
   "cell_type": "code",
   "execution_count": null,
   "metadata": {
    "colab": {
     "base_uri": "https://localhost:8080/"
    },
    "id": "scmDJE-ldsI9",
    "outputId": "6c27e72b-4fbf-4aef-ae24-7c261c97490c"
   },
   "outputs": [
    {
     "data": {
      "text/plain": [
       "29"
      ]
     },
     "execution_count": 24,
     "metadata": {
      "tags": []
     },
     "output_type": "execute_result"
    }
   ],
   "source": [
    "#Write a python program to implement index method using loop. If sub_str is found in my_str then it will print the index\n",
    "# of first occurrence of first character of matching string in my_str:-\n",
    "\n",
    "#Input:- my_str = 'Peter Piper Picked A Peck Of Pickled Peppers.', sub_str = 'Pickl'\n",
    "#Output:- 29\n",
    "my_str = \"Peter Piper Picked A Peck Of Pickled Peppers.\"\n",
    "sub_str = \"Pickl\"\n",
    "def index(s, sub):\n",
    "    start = 0\n",
    "    end = 0\n",
    "    while start < len(s):\n",
    "        if s[start+end] != sub[end]:\n",
    "            start += 1\n",
    "            end = 0\n",
    "            continue\n",
    "        end += 1\n",
    "        if end == len(sub):\n",
    "            return start\n",
    "    return -1\n",
    "index(my_str,sub_str)"
   ]
  },
  {
   "cell_type": "code",
   "execution_count": null,
   "metadata": {
    "colab": {
     "base_uri": "https://localhost:8080/",
     "height": 35
    },
    "id": "Kq_fwdb_dvYE",
    "outputId": "1796ba9b-a062-4022-f0b1-114c951fb4a9"
   },
   "outputs": [
    {
     "data": {
      "application/vnd.google.colaboratory.intrinsic+json": {
       "type": "string"
      },
      "text/plain": [
       "'Peter Piper Picked A Pack Of Pickled Peppers.'"
      ]
     },
     "execution_count": 28,
     "metadata": {
      "tags": []
     },
     "output_type": "execute_result"
    }
   ],
   "source": [
    "#Write a python program to implement replace method using loop. If sub_str is found in my_str then it will replace the first \n",
    "#occurrence of sub_str with new_str else it will will print sub_str not found:-\n",
    "\n",
    "#Input:- my_str = 'Peter Piper Picked A Peck Of Pickled Peppers.', sub_str = 'Peck', new_str = 'Pack'\n",
    "#Output:- 'Peter Piper Picked A Pack Of Pickled Peppers.'\n",
    "\n",
    "my_str = \"Peter Piper Picked A Peck Of Pickled Peppers.\"\n",
    "sub_str = \"Peck\"\n",
    "new_str=\"Pack\"\n",
    "def replace(s, sub):\n",
    "    start = 0\n",
    "    end = 0\n",
    "    while start < len(s):\n",
    "        if s[start+end] != sub[end]:\n",
    "            start += 1\n",
    "            end = 0\n",
    "            continue\n",
    "        end += 1\n",
    "        if end == len(sub):\n",
    "          rep=my_str.replace(sub_str,new_str)\n",
    "          return rep\n",
    "replace(my_str,sub_str)\n",
    "\n"
   ]
  },
  {
   "cell_type": "code",
   "execution_count": null,
   "metadata": {
    "colab": {
     "base_uri": "https://localhost:8080/"
    },
    "id": "4Qes5D0cdyd1",
    "outputId": "151ebf48-e9fd-41fc-f974-f7f66956820d"
   },
   "outputs": [
    {
     "name": "stdout",
     "output_type": "stream",
     "text": [
      "*********************Peck********************"
     ]
    }
   ],
   "source": [
    "#Write a python program to find below output (implements rjust and ljust) using loop:-\n",
    "\n",
    "#Input:- 'Peter Piper Picked A Peck Of Pickled Peppers.', sub_str = 'Peck', \n",
    "#Output:- '*********************Peck********************'\n",
    "\n",
    "my_str = \"Peter Piper Picked A Peck Of Pickled Peppers.\"\n",
    "sub_str = \"Peck\"\n",
    "index=my_str.find(sub_str)\n",
    "if index == -1:\n",
    "  print(\"Sub String not found\")\n",
    "else:\n",
    "  for i in range(index):\n",
    "    print('*',end=\"\")\n",
    "  for i in range(len(sub_str)):\n",
    "    print(sub_str[i],end='')\n",
    "  for i in range(index+len(sub_str),len(my_str)):\n",
    "    print('*', end = '')\n"
   ]
  },
  {
   "cell_type": "code",
   "execution_count": null,
   "metadata": {
    "colab": {
     "base_uri": "https://localhost:8080/"
    },
    "id": "DsOrb07Od0lR",
    "outputId": "fa7e48b7-296d-49f5-fd19-c8ba12d9a89c"
   },
   "outputs": [
    {
     "name": "stdout",
     "output_type": "stream",
     "text": [
      "\n",
      "['This ', 'is', ' Python class']\n"
     ]
    }
   ],
   "source": [
    "#Write a python program to find below output using loop:-\n",
    "\n",
    "#Input:- 'This is Python class', sep = ' is', \n",
    "#Output:- ['This', 'is', 'Python class']\n",
    "\n",
    "\n",
    "inp = 'This is Python class'\n",
    "sep = 'is'\n",
    "\n",
    "ind = inp.rfind(sep)\n",
    "\n",
    "lst = []\n",
    "str1 = ''\n",
    "\n",
    "print()\n",
    "\n",
    "if ind == -1:\n",
    "    print('sub string not found')\n",
    "else:\n",
    "    for i in range(ind):\n",
    "        str1 = str1 + inp[i]\n",
    "    lst.append(str1)\n",
    "    str1 = ''\n",
    "    for i in range(len(sep)):\n",
    "        str1 = str1 + sep[i]\n",
    "    lst.append(str1)\n",
    "    str1 = ''\n",
    "    for i in range(ind+len(sep),len(inp)):\n",
    "        str1 = str1 + inp[i]\n",
    "    lst.append(str1)\n",
    "\n",
    "print(lst)\n"
   ]
  },
  {
   "cell_type": "code",
   "execution_count": null,
   "metadata": {
    "id": "jRnBVufmd2Ay"
   },
   "outputs": [],
   "source": [
    "\n",
    "\n"
   ]
  }
 ],
 "metadata": {
  "colab": {
   "collapsed_sections": [],
   "name": "Pooja Sharma Conditional_and_loop_assignment.ipynb",
   "provenance": []
  },
  "kernelspec": {
   "display_name": "Python 3",
   "language": "python",
   "name": "python3"
  },
  "language_info": {
   "codemirror_mode": {
    "name": "ipython",
    "version": 3
   },
   "file_extension": ".py",
   "mimetype": "text/x-python",
   "name": "python",
   "nbconvert_exporter": "python",
   "pygments_lexer": "ipython3",
   "version": "3.8.3"
  }
 },
 "nbformat": 4,
 "nbformat_minor": 1
}
