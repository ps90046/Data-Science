{
  "nbformat": 4,
  "nbformat_minor": 0,
  "metadata": {
    "colab": {
      "name": "Pooja Sharma Float_Assignment.ipynb",
      "provenance": [],
      "collapsed_sections": []
    },
    "kernelspec": {
      "name": "python3",
      "display_name": "Python 3"
    }
  },
  "cells": [
    {
      "cell_type": "code",
      "metadata": {
        "id": "dlrMB-Qy2taV",
        "outputId": "a2e9ee10-3262-44d7-a1f9-b0d65c840d02",
        "colab": {
          "base_uri": "https://localhost:8080/"
        }
      },
      "source": [
        "#Declare a float value and store it in a variable. \n",
        "\n",
        "a=12.25\n",
        "\n",
        "\n",
        "\n",
        "\n",
        "#Check the type and print the id of the same.\n",
        "\n",
        "print(type(a))\n",
        "print(id(a))\n",
        "\n",
        "\n"
      ],
      "execution_count": null,
      "outputs": [
        {
          "output_type": "stream",
          "text": [
            "<class 'float'>\n",
            "139949201278056\n"
          ],
          "name": "stdout"
        }
      ]
    },
    {
      "cell_type": "code",
      "metadata": {
        "id": "3HO5lhdW7nZo"
      },
      "source": [
        ""
      ],
      "execution_count": null,
      "outputs": []
    },
    {
      "cell_type": "code",
      "metadata": {
        "id": "IL4fVDHg2wbI",
        "outputId": "afcf10dd-cf8f-49b2-b088-c9568f2f8587",
        "colab": {
          "base_uri": "https://localhost:8080/"
        }
      },
      "source": [
        "#Arithmatic Operations on float\n",
        "#Take two different float values.\n",
        "#Store them in two different variables.\n",
        "\n",
        "float_val1 = 9.5\n",
        "float_val2 = 10.2\n",
        "\n",
        "\n",
        "\n",
        "\n",
        "#Do below operations on them:-\n",
        "    #Find sum of both numbers\n",
        "\n",
        "print(float_val1 + float_val2)\n",
        "\n",
        "    #Find differce between them\n",
        "\n",
        "print(float_val1 - float_val2)\n",
        "\n",
        "\n",
        "    #Find the product of both numbers.\n",
        "\n",
        "print(float_val1 * float_val2)\n",
        "\n",
        "    #Find value after dividing first num with second number\n",
        "\n",
        "print(float_val1 / float_val2)\n",
        "\n",
        "    #Find the remainder after dividing first number with second number\n",
        "\n",
        "print(float_val1 % float_val2)\n",
        "\n",
        "    #Find the quotient after dividing first number with second number\n",
        "\n",
        "print(float_val1 // float_val2)\n",
        "\n",
        "    #Find the result of first num to the power of second number.\n",
        "\n",
        "print(float_val1 ** float_val2)"
      ],
      "execution_count": null,
      "outputs": [
        {
          "output_type": "stream",
          "text": [
            "19.7\n",
            "-0.6999999999999993\n",
            "96.89999999999999\n",
            "0.9313725490196079\n",
            "9.5\n",
            "0.0\n",
            "9392490704.940994\n"
          ],
          "name": "stdout"
        }
      ]
    },
    {
      "cell_type": "code",
      "metadata": {
        "id": "atCFaH6c2492",
        "outputId": "f7e6ccb0-3033-46eb-de5b-7eb2cfdf58ed",
        "colab": {
          "base_uri": "https://localhost:8080/"
        }
      },
      "source": [
        "#Comparison Operators on float\n",
        "#Take two different float values.\n",
        "#Store them in two different variables.\n",
        "\n",
        "value1=50.45\n",
        "value2=40.8\n",
        "\n",
        "\n",
        "#Do below operations on them:-\n",
        "    #Compare these two numbers with below operator:-\n",
        "        #Greater than, '>'\n",
        "\n",
        "print(value1 > value2)\n",
        "\n",
        "        #Smaller than, '<'\n",
        "\n",
        "print(value1 < value2)\n",
        "\n",
        "        #Greater than or equal to, '>='\n",
        "\n",
        "print(value1 >= value2)\n",
        "\n",
        "        #Less than or equal to, '<='\n",
        "\n",
        "print(value1 <= value2)\n",
        "\n",
        "#Observe their output(return type should be boolean)\n"
      ],
      "execution_count": null,
      "outputs": [
        {
          "output_type": "stream",
          "text": [
            "True\n",
            "False\n",
            "True\n",
            "False\n"
          ],
          "name": "stdout"
        }
      ]
    },
    {
      "cell_type": "code",
      "metadata": {
        "id": "agi3U3863A5i",
        "outputId": "8b14dfa2-9ce9-4ad0-cd85-1369df871252",
        "colab": {
          "base_uri": "https://localhost:8080/"
        }
      },
      "source": [
        "#Equality Operator\n",
        "#Take two different float values.\n",
        "#Store them in two different variables.\n",
        "\n",
        "val_1 = 6.7\n",
        "val_2 = 6.5\n",
        "\n",
        "#Equuate them using equality operator (==, !=)\n",
        "\n",
        "print(val_1 == val_2)\n",
        "print(val_1 != val_2)\n",
        "\n",
        "#Observe the output(return type should be boolean)\n"
      ],
      "execution_count": null,
      "outputs": [
        {
          "output_type": "stream",
          "text": [
            "False\n",
            "True\n"
          ],
          "name": "stdout"
        }
      ]
    },
    {
      "cell_type": "code",
      "metadata": {
        "id": "3HLlgaEt3EnJ"
      },
      "source": [
        "#Logical operators\n",
        "#Observe the output of below code\n",
        "#Cross check the output manually\n",
        "\n",
        "\"\"\" search for false if both value true then output will be 2nd\"\"\"\n",
        "\n",
        "print(10.20 and 20.30)       #both are true and second value taken >Output is 20.3\n",
        "print(0.0 and 20.30)         #First is false so first value taken->Output is 0.0\n",
        "print(20.30 and 0.0)         #Goes to till second and second value is false so second is taken>Output is 0.0\n",
        "print(0.0 and 0.0)           #First is false so first value is taken->Output is 0.0\n",
        "\n",
        "\n",
        "\"\"\"search for true if both  value is false then output will be first 2nd\"\"\"\n",
        "\n",
        "print(10.20 or 20.30)        #First is True so first value is taken>Output is 10.2\n",
        "print(0.0 or 20.30)          #Goes to till second and second is true second value is taken->Output is 20.3\n",
        "print(20.30 or 0.0)          #First is True so first value is taken->Output is 20.3\n",
        "print(0.0 or 0.0)            #Goes to till second and secod is also false and second value is taken>Output is 0.0\n",
        "\n",
        "print(not 10.20)             #-Not of true is false->Output is False\n",
        "print(not 0.0)               #Not of false is True>Output is True"
      ],
      "execution_count": null,
      "outputs": []
    },
    {
      "cell_type": "code",
      "metadata": {
        "id": "7YdyRNtk3UZd",
        "outputId": "e16667a2-bad1-4d85-d544-be58db03d318",
        "colab": {
          "base_uri": "https://localhost:8080/",
          "height": 86
        }
      },
      "source": [
        "#What is the output of expression inside print statement. Cross check before running the program.\n",
        "a = 10.20\n",
        "b = 10.20\n",
        "print(a is b)          #True or False? \n",
        "'''False  id is not same for same float no assigned to different variables'''\n",
        "print(a is not b)      #True or False? \n",
        "'''True   id is not same of both variables'''\n",
        "\n",
        "\n",
        "# Why the Id of float values are different when the same value is assigned to two different variables\n",
        "\"\"\"Object reusability doesn't work for float values.It only works incase of integers (-5-256),\n",
        "   string (A-Z,a-z,0-9),Boolean and None\"\"\"\n",
        "\n",
        "# ex: a = 10.5 b=10.5. but id will be same if I assign the variable having float i.e. a=c then both a anc c's\n",
        "# Id are same\n",
        "\"\"\"bcz two variables refers to the same object through a process called \"Aliasing\".Both a and b refers to the same object\"\"\""
      ],
      "execution_count": 3,
      "outputs": [
        {
          "output_type": "stream",
          "text": [
            "False\n",
            "True\n"
          ],
          "name": "stdout"
        },
        {
          "output_type": "execute_result",
          "data": {
            "application/vnd.google.colaboratory.intrinsic+json": {
              "type": "string"
            },
            "text/plain": [
              "'bcz two variables refers to the same object through a process called \"Aliasing\".Both a and b refers to the same object'"
            ]
          },
          "metadata": {
            "tags": []
          },
          "execution_count": 3
        }
      ]
    },
    {
      "cell_type": "code",
      "metadata": {
        "id": "iTvnIMLd3VLW"
      },
      "source": [
        "#Bitwise operation is not applicable between instances of float.\n",
        " #True\n",
        "\n",
        "## Why the Id of float values are different when the same value is assigned to two different variables\n",
        "## ex: a = 10.5 b=10.5. but id will be same if I assign the variable having float i.e. a=c then both a anc c's\n",
        "## Id are same\n",
        "#Object reusability concept is not applicable on float values.\n",
        "\"\"\" Yes bcz float is immutable object and object reusability works only for mutable object.there are some exceptions in/\n",
        "immutable objects- string(A-z,a-z,0-9),integer (-5 to 256)\"\"\""
      ],
      "execution_count": null,
      "outputs": []
    },
    {
      "cell_type": "code",
      "metadata": {
        "id": "29AVJHpx3YUo",
        "outputId": "f6c3157d-8379-4842-8e35-2fd03156865c",
        "colab": {
          "base_uri": "https://localhost:8080/"
        }
      },
      "source": [
        "#Membership operation\n",
        "#in, not in are two membership operators and it returns boolean value\n",
        "\n",
        "print('2.7' in 'Python2.7.8')              #True bcz 2.7 is in string given\n",
        "print(10.20 in [10,10.20,10+20j,'Python']) #True bcz 10.20 coming in list\n",
        "print(10.20 in (10,10.20,10+20j,'Python')) # True bcz 10.20 coming in tuple\n",
        "print(20.30 in {1,20.30,30+40j})           # True bcz 20.30 is in set\n",
        "print(2.3 in {1:100, 2.3:200, 30+40j:300}) # True bcz 2.3 is a key of dictionary\n",
        "print(10 in range(20))                     # True bcz 10 is in range of (0:20)"
      ],
      "execution_count": 1,
      "outputs": [
        {
          "output_type": "stream",
          "text": [
            "True\n",
            "True\n",
            "True\n",
            "True\n",
            "True\n",
            "True\n"
          ],
          "name": "stdout"
        }
      ]
    }
  ]
}