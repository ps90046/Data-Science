{
 "cells": [
  {
   "cell_type": "code",
   "execution_count": 7,
   "metadata": {},
   "outputs": [
    {
     "name": "stdout",
     "output_type": "stream",
     "text": [
      "Python\n",
      "\tPython\n",
      "\t\tPython\n",
      "\t\t\tPython\n",
      "\t\tPython\n",
      "\tPython\n",
      "Python\n"
     ]
    }
   ],
   "source": [
    "print(\"Python\",end='\\n\\t')\n",
    "print(\"Python\",end='\\n\\t\\t')\n",
    "print(\"Python\",end='\\n\\t\\t\\t')\n",
    "print(\"Python\",end='\\n\\t\\t')\n",
    "print(\"Python\",end='\\n\\t')\n",
    "print(\"Python\",end='\\n')\n",
    "print(\"Python\")"
   ]
  },
  {
   "cell_type": "code",
   "execution_count": 10,
   "metadata": {},
   "outputs": [
    {
     "name": "stdout",
     "output_type": "stream",
     "text": [
      "Enter your first name :pooja\n",
      "Enter your last name :sharma\n",
      "your first name is pooja , your last name is sharma and your full name is pooja sharma\n"
     ]
    }
   ],
   "source": [
    "f_name=input(\"Enter your first name :\")\n",
    "l_name=input(\"Enter your last name :\")\n",
    "full_name=f_name + ' ' + l_name\n",
    "print(\"your first name is {} , your last name is {} and your full name is {}\".format(f_name,l_name,full_name))bb\n"
   ]
  },
  {
   "cell_type": "code",
   "execution_count": 11,
   "metadata": {},
   "outputs": [
    {
     "name": "stdout",
     "output_type": "stream",
     "text": [
      "Enter your first name :pooja\n",
      "Enter your last name :sharma\n",
      "your first name is pooja , your last name is sharma and your full name is pooja sharma\n"
     ]
    }
   ],
   "source": [
    "f_name=input(\"Enter your first name :\")\n",
    "l_name=input(\"Enter your last name :\")\n",
    "full_name=f_name + ' ' + l_name\n",
    "print(\"your first name is {0} , your last name is {1} and your full name is {2}\".format(f_name,l_name,full_name))"
   ]
  },
  {
   "cell_type": "code",
   "execution_count": 16,
   "metadata": {},
   "outputs": [
    {
     "name": "stdout",
     "output_type": "stream",
     "text": [
      "Enter your first name :pooja\n",
      "Enter your last name :sharma\n",
      "Enter your age :33\n",
      "your first name is pooja\n",
      "your last name is sharma\n",
      "your full name is pooja sharma\n",
      "and your age is 33\n"
     ]
    }
   ],
   "source": [
    "f_name=input(\"Enter your first name :\")\n",
    "l_name=input(\"Enter your last name :\")\n",
    "full_name=f_name + ' ' + l_name\n",
    "age=input(\"Enter your age :\")\n",
    "print(f\"\"\"your first name is {f_name}\\nyour last name is {l_name}\\nyour full name is {full_name}\\nand your age is {age}\"\"\")"
   ]
  }
 ],
 "metadata": {
  "kernelspec": {
   "display_name": "Python 3",
   "language": "python",
   "name": "python3"
  },
  "language_info": {
   "codemirror_mode": {
    "name": "ipython",
    "version": 3
   },
   "file_extension": ".py",
   "mimetype": "text/x-python",
   "name": "python",
   "nbconvert_exporter": "python",
   "pygments_lexer": "ipython3",
   "version": "3.8.3"
  }
 },
 "nbformat": 4,
 "nbformat_minor": 4
}
