{
 "cells": [
  {
   "cell_type": "code",
   "execution_count": 8,
   "metadata": {},
   "outputs": [
    {
     "name": "stdout",
     "output_type": "stream",
     "text": [
      "Enter first no: 10\n",
      "Enter second no: 5\n",
      "[15, 5, 2.0, 50, 0, 100000]\n"
     ]
    }
   ],
   "source": [
    "def arithmatic_operarion():\n",
    "    a=eval(input(\"Enter first no: \"))\n",
    "    b=eval(input(\"Enter second no: \"))\n",
    "    lst=[]\n",
    "    add=a+b\n",
    "    sub=a-b\n",
    "    div=a/b\n",
    "    mul=a*b\n",
    "    rem=a%b\n",
    "    exp=a**b\n",
    "    lst.append(add)\n",
    "    lst.append(sub)\n",
    "    lst.append(div)\n",
    "    lst.append(mul)\n",
    "    lst.append(rem)\n",
    "    lst.append(exp)\n",
    "    print(lst)\n",
    "arithmatic_operarion()\n",
    "    "
   ]
  },
  {
   "cell_type": "code",
   "execution_count": 56,
   "metadata": {},
   "outputs": [
    {
     "name": "stdout",
     "output_type": "stream",
     "text": [
      "Enter the value: 10\n",
      "0\n",
      "1\n",
      "1\n",
      "2\n",
      "3\n",
      "5\n",
      "8\n",
      "13\n"
     ]
    }
   ],
   "source": [
    "def fibonacci(n):\n",
    "    a=0\n",
    "    b=1\n",
    "    if n <= 0:\n",
    "        print(\"Incorrect Output\")\n",
    "    elif n==1:\n",
    "        return a\n",
    "    else:\n",
    "        for i in range(2,n):\n",
    "            print(a)\n",
    "            c=a+b\n",
    "            a=b\n",
    "            b=c\n",
    "n=int(input(\"Enter the value: \"))\n",
    "fibonacci(n)\n",
    "        "
   ]
  },
  {
   "cell_type": "code",
   "execution_count": 58,
   "metadata": {},
   "outputs": [
    {
     "name": "stdout",
     "output_type": "stream",
     "text": [
      "1\n",
      "2\n",
      "3\n",
      "4\n",
      "5\n",
      "6\n",
      "7\n",
      "8\n",
      "9\n",
      "10\n"
     ]
    }
   ],
   "source": [
    "for i in range(1,11):\n",
    "    print(i)"
   ]
  },
  {
   "cell_type": "code",
   "execution_count": 59,
   "metadata": {},
   "outputs": [
    {
     "name": "stdout",
     "output_type": "stream",
     "text": [
      "5 3.2 Hello World\n"
     ]
    }
   ],
   "source": [
    "a,b,c=5,3.2,\"Hello World\"\n",
    "print(a,b,c)"
   ]
  },
  {
   "cell_type": "code",
   "execution_count": null,
   "metadata": {},
   "outputs": [],
   "source": [
    "\n",
    "\n"
   ]
  },
  {
   "cell_type": "code",
   "execution_count": null,
   "metadata": {},
   "outputs": [],
   "source": []
  },
  {
   "cell_type": "code",
   "execution_count": null,
   "metadata": {},
   "outputs": [],
   "source": []
  },
  {
   "cell_type": "code",
   "execution_count": null,
   "metadata": {},
   "outputs": [],
   "source": []
  }
 ],
 "metadata": {
  "kernelspec": {
   "display_name": "Python 3",
   "language": "python",
   "name": "python3"
  },
  "language_info": {
   "codemirror_mode": {
    "name": "ipython",
    "version": 3
   },
   "file_extension": ".py",
   "mimetype": "text/x-python",
   "name": "python",
   "nbconvert_exporter": "python",
   "pygments_lexer": "ipython3",
   "version": "3.8.3"
  }
 },
 "nbformat": 4,
 "nbformat_minor": 4
}
